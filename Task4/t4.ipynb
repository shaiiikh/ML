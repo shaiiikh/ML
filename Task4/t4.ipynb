{
 "cells": [
  {
   "cell_type": "markdown",
   "metadata": {},
   "source": [
    "# Import necessary libraries"
   ]
  },
  {
   "cell_type": "code",
   "execution_count": 6,
   "metadata": {},
   "outputs": [],
   "source": [
    "import os\n",
    "import cv2\n",
    "import numpy as np\n",
    "from sklearn.model_selection import train_test_split"
   ]
  },
  {
   "cell_type": "markdown",
   "metadata": {},
   "source": [
    "# Constants"
   ]
  },
  {
   "cell_type": "code",
   "execution_count": 7,
   "metadata": {},
   "outputs": [],
   "source": [
    "DATASET_PATH = \"D:/Work/AliShaikh_ProdigyInfotech/Task4/leapGestRecog\"\n",
    "IMG_SIZE = (64, 64)  # Reshape images to 64x64 pixels"
   ]
  },
  {
   "cell_type": "markdown",
   "metadata": {},
   "source": [
    "# Function to load and preprocess images"
   ]
  },
  {
   "cell_type": "code",
   "execution_count": 8,
   "metadata": {},
   "outputs": [],
   "source": [
    "def load_images(folder_path):\n",
    "    images = []\n",
    "    labels = []\n",
    "    problematic_images = []\n",
    "    for subject_folder in os.listdir(folder_path):\n",
    "        subject_path = os.path.join(folder_path, subject_folder)\n",
    "        if os.path.isdir(subject_path):\n",
    "            for gesture_folder in os.listdir(subject_path):\n",
    "                gesture_path = os.path.join(subject_path, gesture_folder)\n",
    "                if os.path.isdir(gesture_path):\n",
    "                    for img_file in os.listdir(gesture_path):\n",
    "                        img_path = os.path.join(gesture_path, img_file)\n",
    "                        # Read image and resize\n",
    "                        img = cv2.imread(img_path, cv2.IMREAD_GRAYSCALE)\n",
    "                        if img is None:\n",
    "                            problematic_images.append(img_path)\n",
    "                            continue\n",
    "                        img = cv2.resize(img, IMG_SIZE)\n",
    "                        # Normalize pixel values\n",
    "                        img = img / 255.0\n",
    "                        images.append(img)\n",
    "                        labels.append(int(gesture_folder.split(\"_\")[0]) - 1)  # Subtract 1 to make labels start from 0\n",
    "    if problematic_images:\n",
    "        print(\"Problematic images:\")\n",
    "        for img_path in problematic_images:\n",
    "            print(img_path)\n",
    "    return np.array(images), np.array(labels)\n"
   ]
  },
  {
   "cell_type": "markdown",
   "metadata": {},
   "source": [
    "# Load images and labels"
   ]
  },
  {
   "cell_type": "code",
   "execution_count": 9,
   "metadata": {},
   "outputs": [],
   "source": [
    "X, y = load_images(DATASET_PATH)"
   ]
  },
  {
   "cell_type": "markdown",
   "metadata": {},
   "source": [
    "# Split data into training and testing sets"
   ]
  },
  {
   "cell_type": "code",
   "execution_count": 10,
   "metadata": {},
   "outputs": [],
   "source": [
    "X_train, X_test, y_train, y_test = train_test_split(X, y, test_size=0.2, random_state=42)"
   ]
  },
  {
   "cell_type": "markdown",
   "metadata": {},
   "source": [
    "# Print dataset statistics"
   ]
  },
  {
   "cell_type": "code",
   "execution_count": 11,
   "metadata": {},
   "outputs": [
    {
     "name": "stdout",
     "output_type": "stream",
     "text": [
      "Number of training samples: 15997\n",
      "Number of testing samples: 4000\n",
      "Image shape: (64, 64)\n",
      "Number of classes: 10\n"
     ]
    }
   ],
   "source": [
    "print(\"Number of training samples:\", len(X_train))\n",
    "print(\"Number of testing samples:\", len(X_test))\n",
    "print(\"Image shape:\", X_train[0].shape)\n",
    "print(\"Number of classes:\", len(np.unique(y_train)))"
   ]
  }
 ],
 "metadata": {
  "kernelspec": {
   "display_name": "Python 3",
   "language": "python",
   "name": "python3"
  },
  "language_info": {
   "codemirror_mode": {
    "name": "ipython",
    "version": 3
   },
   "file_extension": ".py",
   "mimetype": "text/x-python",
   "name": "python",
   "nbconvert_exporter": "python",
   "pygments_lexer": "ipython3",
   "version": "3.12.1"
  }
 },
 "nbformat": 4,
 "nbformat_minor": 2
}
